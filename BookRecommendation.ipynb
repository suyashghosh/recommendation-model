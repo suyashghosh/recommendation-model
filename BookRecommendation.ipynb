{
 "cells": [
  {
   "cell_type": "code",
   "execution_count": 64,
   "metadata": {},
   "outputs": [],
   "source": [
    "import numpy as np\n",
    "import pandas as pd\n",
    "import matplotlib.pyplot as plt\n",
    "from sklearn.model_selection import train_test_split\n",
    "from sklearn.utils import shuffle\n",
    "import tensorflow as tf\n",
    "from tensorflow import keras\n",
    "from tensorflow.keras import layers"
   ]
  },
  {
   "cell_type": "code",
   "execution_count": 2,
   "metadata": {},
   "outputs": [],
   "source": [
    "rating_df = pd.read_csv(\"Book reviews/BX-Book-Ratings.csv\", sep=';', error_bad_lines=False, encoding=\"latin-1\")\n",
    "rating_df.columns = [\"user_id\",\"isbn\",\"rating\"]\n",
    "books_df = pd.read_csv(\"Book reviews/BX_Books.csv\", sep=';', error_bad_lines=False, encoding=\"latin-1\")\n",
    "books_df = books_df[[\"ISBN\",\"Book-Title\",\"Book-Author\"]]\n",
    "books_df.columns = [\"isbn\",\"book_title\",\"book_author\"]"
   ]
  },
  {
   "cell_type": "code",
   "execution_count": 3,
   "metadata": {},
   "outputs": [
    {
     "name": "stdout",
     "output_type": "stream",
     "text": [
      "user_id    0\n",
      "isbn       0\n",
      "rating     0\n",
      "dtype: int64\n",
      "isbn           0\n",
      "book_title     0\n",
      "book_author    1\n",
      "dtype: int64\n"
     ]
    }
   ],
   "source": [
    "print(rating_df.isnull().sum())\n",
    "print(books_df.isnull().sum())"
   ]
  },
  {
   "cell_type": "code",
   "execution_count": 4,
   "metadata": {},
   "outputs": [
    {
     "data": {
      "text/html": [
       "<div>\n",
       "<style scoped>\n",
       "    .dataframe tbody tr th:only-of-type {\n",
       "        vertical-align: middle;\n",
       "    }\n",
       "\n",
       "    .dataframe tbody tr th {\n",
       "        vertical-align: top;\n",
       "    }\n",
       "\n",
       "    .dataframe thead th {\n",
       "        text-align: right;\n",
       "    }\n",
       "</style>\n",
       "<table border=\"1\" class=\"dataframe\">\n",
       "  <thead>\n",
       "    <tr style=\"text-align: right;\">\n",
       "      <th></th>\n",
       "      <th>isbn</th>\n",
       "      <th>book_title</th>\n",
       "      <th>book_author</th>\n",
       "    </tr>\n",
       "  </thead>\n",
       "  <tbody>\n",
       "    <tr>\n",
       "      <th>187700</th>\n",
       "      <td>9627982032</td>\n",
       "      <td>The Credit Suisse Guide to Managing Your Perso...</td>\n",
       "      <td>NaN</td>\n",
       "    </tr>\n",
       "  </tbody>\n",
       "</table>\n",
       "</div>"
      ],
      "text/plain": [
       "              isbn                                         book_title  \\\n",
       "187700  9627982032  The Credit Suisse Guide to Managing Your Perso...   \n",
       "\n",
       "       book_author  \n",
       "187700         NaN  "
      ]
     },
     "execution_count": 4,
     "metadata": {},
     "output_type": "execute_result"
    }
   ],
   "source": [
    "books_df[books_df[\"book_author\"].isnull() == True]"
   ]
  },
  {
   "cell_type": "code",
   "execution_count": 5,
   "metadata": {},
   "outputs": [],
   "source": [
    "books_df = books_df.fillna(\"Unknown\")"
   ]
  },
  {
   "cell_type": "code",
   "execution_count": 6,
   "metadata": {},
   "outputs": [],
   "source": [
    "def encode_data(df, col_name, id2name=False):\n",
    "    \"\"\" Encodes rating data with continous user and ids. \n",
    "    \"\"\"\n",
    "    df = df.copy()\n",
    "    uniq = df[col_name].unique()\n",
    "    name2idx = {o:i for i,o in enumerate(uniq)}\n",
    "    if id2name:\n",
    "        id2name = {i:o for i,o in enumerate(uniq)}\n",
    "        return id2name, np.array([name2idx.get(x, -1) for x in df[col_name]])\n",
    "    return name2idx, np.array([name2idx.get(x, -1) for x in df[col_name]])\n",
    "    "
   ]
  },
  {
   "cell_type": "code",
   "execution_count": 34,
   "metadata": {},
   "outputs": [],
   "source": [
    "# taking only a sample of the whole dataset only to skip high processing time\n",
    "\n",
    "reduced_rating_df = shuffle(rating_df).iloc[:5000]\n",
    "encoded_df = pd.DataFrame(reduced_rating_df[\"rating\"])\n",
    "user2id_encoded, encoded_df[\"user_id\"] = encode_data(reduced_rating_df, col_name=\"user_id\")\n",
    "id2book_encoded, encoded_df[\"isbn\"] = encode_data(reduced_rating_df, col_name=\"isbn\", id2name=True)\n"
   ]
  },
  {
   "cell_type": "code",
   "execution_count": 35,
   "metadata": {},
   "outputs": [],
   "source": [
    "# min and max ratings will be used to normalize the ratings\n",
    "min_rating = min(encoded_df[\"rating\"])\n",
    "max_rating = max(encoded_df[\"rating\"])\n",
    "\n",
    "encoded_df[\"rating\"] = encoded_df[\"rating\"].apply(lambda x: (x - min_rating) / (max_rating - min_rating))"
   ]
  },
  {
   "cell_type": "code",
   "execution_count": 36,
   "metadata": {},
   "outputs": [
    {
     "data": {
      "text/html": [
       "<div>\n",
       "<style scoped>\n",
       "    .dataframe tbody tr th:only-of-type {\n",
       "        vertical-align: middle;\n",
       "    }\n",
       "\n",
       "    .dataframe tbody tr th {\n",
       "        vertical-align: top;\n",
       "    }\n",
       "\n",
       "    .dataframe thead th {\n",
       "        text-align: right;\n",
       "    }\n",
       "</style>\n",
       "<table border=\"1\" class=\"dataframe\">\n",
       "  <thead>\n",
       "    <tr style=\"text-align: right;\">\n",
       "      <th></th>\n",
       "      <th>rating</th>\n",
       "      <th>user_id</th>\n",
       "      <th>isbn</th>\n",
       "    </tr>\n",
       "  </thead>\n",
       "  <tbody>\n",
       "    <tr>\n",
       "      <th>162882</th>\n",
       "      <td>0.0</td>\n",
       "      <td>0</td>\n",
       "      <td>0</td>\n",
       "    </tr>\n",
       "    <tr>\n",
       "      <th>744957</th>\n",
       "      <td>0.0</td>\n",
       "      <td>1</td>\n",
       "      <td>1</td>\n",
       "    </tr>\n",
       "    <tr>\n",
       "      <th>1089973</th>\n",
       "      <td>0.0</td>\n",
       "      <td>2</td>\n",
       "      <td>2</td>\n",
       "    </tr>\n",
       "    <tr>\n",
       "      <th>251432</th>\n",
       "      <td>0.8</td>\n",
       "      <td>3</td>\n",
       "      <td>3</td>\n",
       "    </tr>\n",
       "    <tr>\n",
       "      <th>817432</th>\n",
       "      <td>0.0</td>\n",
       "      <td>4</td>\n",
       "      <td>4</td>\n",
       "    </tr>\n",
       "    <tr>\n",
       "      <th>...</th>\n",
       "      <td>...</td>\n",
       "      <td>...</td>\n",
       "      <td>...</td>\n",
       "    </tr>\n",
       "    <tr>\n",
       "      <th>573285</th>\n",
       "      <td>1.0</td>\n",
       "      <td>3166</td>\n",
       "      <td>4642</td>\n",
       "    </tr>\n",
       "    <tr>\n",
       "      <th>738825</th>\n",
       "      <td>0.8</td>\n",
       "      <td>3167</td>\n",
       "      <td>4643</td>\n",
       "    </tr>\n",
       "    <tr>\n",
       "      <th>471961</th>\n",
       "      <td>0.0</td>\n",
       "      <td>3168</td>\n",
       "      <td>4644</td>\n",
       "    </tr>\n",
       "    <tr>\n",
       "      <th>625140</th>\n",
       "      <td>0.8</td>\n",
       "      <td>2472</td>\n",
       "      <td>4645</td>\n",
       "    </tr>\n",
       "    <tr>\n",
       "      <th>547010</th>\n",
       "      <td>0.7</td>\n",
       "      <td>3169</td>\n",
       "      <td>4646</td>\n",
       "    </tr>\n",
       "  </tbody>\n",
       "</table>\n",
       "<p>5000 rows × 3 columns</p>\n",
       "</div>"
      ],
      "text/plain": [
       "         rating  user_id  isbn\n",
       "162882      0.0        0     0\n",
       "744957      0.0        1     1\n",
       "1089973     0.0        2     2\n",
       "251432      0.8        3     3\n",
       "817432      0.0        4     4\n",
       "...         ...      ...   ...\n",
       "573285      1.0     3166  4642\n",
       "738825      0.8     3167  4643\n",
       "471961      0.0     3168  4644\n",
       "625140      0.8     2472  4645\n",
       "547010      0.7     3169  4646\n",
       "\n",
       "[5000 rows x 3 columns]"
      ]
     },
     "execution_count": 36,
     "metadata": {},
     "output_type": "execute_result"
    }
   ],
   "source": [
    "encoded_df"
   ]
  },
  {
   "cell_type": "code",
   "execution_count": 37,
   "metadata": {},
   "outputs": [],
   "source": [
    "X_train, X_test, y_train, y_test = train_test_split(encoded_df[['user_id', 'isbn']].values, encoded_df[\"rating\"].values,\n",
    "                                                   test_size=0.2)"
   ]
  },
  {
   "cell_type": "code",
   "execution_count": 38,
   "metadata": {},
   "outputs": [],
   "source": [
    "class RecommenderNet(keras.Model):\n",
    "    def __init__(self, num_users, num_books, embedding_size, **kwargs):\n",
    "        super(RecommenderNet, self).__init__(**kwargs)\n",
    "        self.num_users = num_users\n",
    "        self.num_books = num_books\n",
    "        self.embedding_size = embedding_size\n",
    "        self.user_embedding = layers.Embedding(\n",
    "            num_users,\n",
    "            embedding_size,\n",
    "            embeddings_initializer=\"he_normal\",\n",
    "            embeddings_regularizer=keras.regularizers.l2(1e-6),\n",
    "        )\n",
    "        self.user_bias = layers.Embedding(num_users, 1)\n",
    "        self.book_embedding = layers.Embedding(\n",
    "            num_books,\n",
    "            embedding_size,\n",
    "            embeddings_initializer=\"he_normal\",\n",
    "            embeddings_regularizer=keras.regularizers.l2(1e-6),\n",
    "        )\n",
    "        self.book_bias = layers.Embedding(num_books, 1)\n",
    "\n",
    "    def call(self, inputs):\n",
    "        user_vector = self.user_embedding(inputs[:, 0])\n",
    "        user_bias = self.user_bias(inputs[:, 0])\n",
    "        book_vector = self.book_embedding(inputs[:, 1])\n",
    "        book_bias = self.book_bias(inputs[:, 1])\n",
    "        dot_user_book = tf.tensordot(user_vector, book_vector, 2)\n",
    "        # Add all the components (including bias)\n",
    "        x = dot_user_book + user_bias + book_bias\n",
    "        # The sigmoid activation forces the rating to between 0 and 1\n",
    "        return tf.nn.sigmoid(x)"
   ]
  },
  {
   "cell_type": "code",
   "execution_count": 75,
   "metadata": {},
   "outputs": [],
   "source": [
    "EMBEDDING_SIZE = 50\n",
    "num_users = len(user2id_encoded)\n",
    "num_books = len(id2book_encoded)\n",
    "    \n",
    "model = RecommenderNet(num_users, num_books, EMBEDDING_SIZE)\n",
    "model.compile(loss=tf.keras.losses.BinaryCrossentropy(), optimizer=keras.optimizers.Adam(lr=0.001))"
   ]
  },
  {
   "cell_type": "code",
   "execution_count": 76,
   "metadata": {},
   "outputs": [
    {
     "name": "stdout",
     "output_type": "stream",
     "text": [
      "Train on 4000 samples, validate on 1000 samples\n",
      "Epoch 1/10\n"
     ]
    },
    {
     "name": "stderr",
     "output_type": "stream",
     "text": [
      "/opt/anaconda3/lib/python3.7/site-packages/tensorflow_core/python/framework/indexed_slices.py:424: UserWarning: Converting sparse IndexedSlices to a dense Tensor of unknown shape. This may consume a large amount of memory.\n",
      "  \"Converting sparse IndexedSlices to a dense Tensor of unknown shape. \"\n",
      "/opt/anaconda3/lib/python3.7/site-packages/tensorflow_core/python/framework/indexed_slices.py:424: UserWarning: Converting sparse IndexedSlices to a dense Tensor of unknown shape. This may consume a large amount of memory.\n",
      "  \"Converting sparse IndexedSlices to a dense Tensor of unknown shape. \"\n"
     ]
    },
    {
     "name": "stdout",
     "output_type": "stream",
     "text": [
      "4000/4000 [==============================] - 2s 596us/sample - loss: 0.6928 - val_loss: 0.6929\n",
      "Epoch 2/10\n",
      "4000/4000 [==============================] - 1s 182us/sample - loss: 0.6082 - val_loss: 0.6918\n",
      "Epoch 3/10\n",
      "4000/4000 [==============================] - 1s 181us/sample - loss: 0.6035 - val_loss: 0.6909\n",
      "Epoch 4/10\n",
      "4000/4000 [==============================] - 1s 185us/sample - loss: 0.5996 - val_loss: 0.6900\n",
      "Epoch 5/10\n",
      "4000/4000 [==============================] - 1s 186us/sample - loss: 0.5950 - val_loss: 0.6891\n",
      "Epoch 6/10\n",
      "4000/4000 [==============================] - 1s 185us/sample - loss: 0.5907 - val_loss: 0.6881\n",
      "Epoch 7/10\n",
      "4000/4000 [==============================] - 1s 185us/sample - loss: 0.5875 - val_loss: 0.6871\n",
      "Epoch 8/10\n",
      "4000/4000 [==============================] - 1s 183us/sample - loss: 0.5844 - val_loss: 0.6861\n",
      "Epoch 9/10\n",
      "4000/4000 [==============================] - 1s 186us/sample - loss: 0.5846 - val_loss: 0.6853\n",
      "Epoch 10/10\n",
      "4000/4000 [==============================] - 1s 184us/sample - loss: 0.5845 - val_loss: 0.6840\n"
     ]
    }
   ],
   "source": [
    "history = model.fit(\n",
    "    x=X_train,\n",
    "    y=y_train,\n",
    "    batch_size=100,\n",
    "    epochs=10,\n",
    "    verbose=1,\n",
    "    validation_data=(X_test, y_test),\n",
    ")"
   ]
  },
  {
   "cell_type": "code",
   "execution_count": 77,
   "metadata": {},
   "outputs": [
    {
     "data": {
      "image/png": "[encoded data removed]",
      "text/plain": [
       "<Figure size 432x288 with 1 Axes>"
      ]
     },
     "metadata": {
      "needs_background": "light"
     },
     "output_type": "display_data"
    }
   ],
   "source": [
    "## Plot training and validation loss\n",
    "\n",
    "plt.plot(history.history[\"loss\"])\n",
    "plt.plot(history.history[\"val_loss\"])\n",
    "plt.title(\"model loss\")\n",
    "plt.ylabel(\"loss\")\n",
    "plt.xlabel(\"epoch\")\n",
    "plt.legend([\"train\", \"test\"], loc=\"upper left\")\n",
    "plt.show()"
   ]
  },
  {
   "cell_type": "code",
   "execution_count": 78,
   "metadata": {},
   "outputs": [
    {
     "name": "stdout",
     "output_type": "stream",
     "text": [
      "Showing recommendations for user: 1341\n",
      "====================================\n",
      "Books with high ratings from user\n",
      "--------------------------------\n",
      "The Cave\n",
      "The Invisible Partners: How the Male and Female in Each of Us Affects Our Relationships\n",
      "Critical Questions\n",
      "Common Ground: A Turbulent Decade in the Lives of Three American Families\n",
      "--------------------------------\n",
      "Top 10 Books recommendations\n",
      "--------------------------------\n",
      "Die SÃ?Â¤ulen der Erde. Roman.\n",
      "Neverwhere\n",
      "The Power of Myth (Illustrated Edition)\n",
      "Into the Wild\n",
      "Harry Potter and the Sorcerer's Stone (Harry Potter (Paperback))\n",
      "Midwives: A Novel\n",
      "The Hobbit\n",
      "I Know Why the Caged Bird Sings\n",
      "The Beach House\n"
     ]
    }
   ],
   "source": [
    "# Top recommendations for a random user\n",
    "\n",
    "user_id = encoded_df.user_id.sample(3).iloc[0]\n",
    "books_read_by_user = encoded_df[encoded_df.user_id == user_id]\n",
    "books_not_read = encoded_df[encoded_df.user_id != user_id][\"isbn\"].values.reshape(-1,1)\n",
    "\n",
    "\n",
    "\n",
    "user_encoder = user_id\n",
    "\n",
    "user_book_array = np.hstack(([[user_encoder]] * len(books_not_read), books_not_read))\\\n",
    "\n",
    "ratings = model.predict(user_book_array).flatten()\n",
    "\n",
    "top_ratings_indices = ratings.argsort()[-10:][::-1]\n",
    "\n",
    "recommended_book_ids = [id2book_encoded.get(books_not_read[x][0]) for x in top_ratings_indices]\n",
    "\n",
    "print(\"Showing recommendations for user: {}\".format(user_id))\n",
    "print(\"====\" * 9)\n",
    "print(\"Books with high ratings from user\")\n",
    "print(\"----\" * 8)\n",
    "top_books_user = ( books_read_by_user.sort_values(by=\"rating\", ascending=False).head(5).isbn.values)\n",
    "decoded_rated_books = [id2book_encoded.get(x) for x in top_books_user]\n",
    "book_df_rows = books_df[books_df[\"isbn\"].isin(decoded_rated_books)]\n",
    "for row in book_df_rows.itertuples():\n",
    "    print(row.book_title)\n",
    "\n",
    "print(\"----\" * 8)\n",
    "print(\"Top 10 Books recommendations\")\n",
    "print(\"----\" * 8)\n",
    "recommended_books = books_df[books_df[\"isbn\"].isin(recommended_book_ids)]\n",
    "for row in recommended_books.itertuples():\n",
    "    print(row.book_title)"
   ]
  },
  {
   "cell_type": "code",
   "execution_count": null,
   "metadata": {},
   "outputs": [],
   "source": []
  }
 ],
 "metadata": {
  "kernelspec": {
   "display_name": "Python 3",
   "language": "python",
   "name": "python3"
  },
  "language_info": {
   "codemirror_mode": {
    "name": "ipython",
    "version": 3
   },
   "file_extension": ".py",
   "mimetype": "text/x-python",
   "name": "python",
   "nbconvert_exporter": "python",
   "pygments_lexer": "ipython3",
   "version": "3.7.9"
  }
 },
 "nbformat": 4,
 "nbformat_minor": 4
}
